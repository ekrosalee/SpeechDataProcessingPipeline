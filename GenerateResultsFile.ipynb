{
  "nbformat": 4,
  "nbformat_minor": 0,
  "metadata": {
    "colab": {
      "provenance": [],
      "collapsed_sections": [
        "OHJPl5HUhYam",
        "5G3pb9W5hb1n",
        "47ik3j2SheXT",
        "qEDCV-d-hmo_"
      ]
    },
    "kernelspec": {
      "name": "python3",
      "display_name": "Python 3"
    },
    "language_info": {
      "name": "python"
    }
  },
  "cells": [
    {
      "cell_type": "markdown",
      "source": [
        "# Mount Google Drive"
      ],
      "metadata": {
        "id": "OHJPl5HUhYam"
      }
    },
    {
      "cell_type": "code",
      "source": [
        "from google.colab import drive\n",
        "drive.mount('/content/drive')"
      ],
      "metadata": {
        "id": "hqmAPHwAp8jS"
      },
      "execution_count": null,
      "outputs": []
    },
    {
      "cell_type": "markdown",
      "source": [
        "# Install package"
      ],
      "metadata": {
        "id": "5G3pb9W5hb1n"
      }
    },
    {
      "cell_type": "code",
      "source": [
        "pip install praat-textgrids"
      ],
      "metadata": {
        "id": "828KziBkGHwR"
      },
      "execution_count": null,
      "outputs": []
    },
    {
      "cell_type": "markdown",
      "source": [
        "# Function"
      ],
      "metadata": {
        "id": "47ik3j2SheXT"
      }
    },
    {
      "cell_type": "code",
      "execution_count": null,
      "metadata": {
        "id": "1fCxuNVtGEY-"
      },
      "outputs": [],
      "source": [
        "def process_textgrids(tg_dir, output_dir):\n",
        "\n",
        "    import os\n",
        "    import io\n",
        "    import textgrids\n",
        "    import pandas as pd\n",
        "    import numpy as np\n",
        "    import shutil\n",
        "\n",
        "    filenames = [os.path.splitext(fn)[0] for fn in os.listdir(tg_dir) if \".TextGrid\" in fn]\n",
        "    item = [f.split(\"_\")[0] for f in filenames]\n",
        "    subject_id = [f.split(\"_\")[-1] for f in filenames]\n",
        "    item_type = [f.split(\"_\")[1] for f in filenames]\n",
        "\n",
        "    rt = []\n",
        "    response = []\n",
        "    notes = []\n",
        "\n",
        "    for tg_loc in [f for f in os.listdir(tg_dir) if \".TextGrid\" in f]:\n",
        "        tg = textgrids.TextGrid(os.path.join(tg_dir, tg_loc))\n",
        "        rt.append(tg[\"words\"][1].xmin)\n",
        "        response.append(tg[\"words\"][1].text)\n",
        "\n",
        "    df = pd.DataFrame({\"filenames\":filenames, \"item\":item, \"item_type\":item_type, \"subject_id\": subject_id, \"response\":response, \"rt\":rt})\n",
        "    df.to_csv(output_dir)\n",
        "\n",
        "    print('Output csv file saved in output directory.')\n",
        "\n",
        "    return  df"
      ]
    },
    {
      "cell_type": "markdown",
      "source": [
        "# Run function and examine data"
      ],
      "metadata": {
        "id": "qEDCV-d-hmo_"
      }
    },
    {
      "cell_type": "code",
      "source": [
        "# path to folder with final textgrid files (manually checked)\n",
        "tg_dir_final = '/content/drive/MyDrive/get_transcriptions/tg_checked'\n",
        "\n",
        "# path to output folder with textgrids (with transcriptions and timing)\n",
        "output_dir = '/content/drive/MyDrive/get_transcriptions/results.csv'\n",
        "\n",
        "# output textgrid files with transcriptions and timing data\n",
        "df = process_textgrids(tg_dir_final, output_dir)"
      ],
      "metadata": {
        "id": "74kyUqRVM7sg"
      },
      "execution_count": null,
      "outputs": []
    },
    {
      "cell_type": "code",
      "source": [
        "df"
      ],
      "metadata": {
        "id": "XMFpsERUhuC7"
      },
      "execution_count": null,
      "outputs": []
    }
  ]
}