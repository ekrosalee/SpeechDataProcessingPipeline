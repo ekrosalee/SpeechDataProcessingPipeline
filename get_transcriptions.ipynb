{
  "nbformat": 4,
  "nbformat_minor": 0,
  "metadata": {
    "colab": {
      "provenance": []
    },
    "kernelspec": {
      "name": "python3",
      "display_name": "Python 3"
    },
    "language_info": {
      "name": "python"
    }
  },
  "cells": [
    {
      "cell_type": "markdown",
      "source": [
        "# **Get transcriptions from speech recordings**\n",
        "*   Input: .wav files (speech recordings)\n",
        "*   Output: .TextGrid files (transcriptions)"
      ],
      "metadata": {
        "id": "a2aDvqvxp8jQ"
      }
    },
    {
      "cell_type": "markdown",
      "source": [
        "# Install packages"
      ],
      "metadata": {
        "id": "NjJPNFb-p8jR"
      }
    },
    {
      "cell_type": "code",
      "source": [
        "pip install assemblyai\n",
        "pip install praat-textgrids\n",
        "pip install pydub"
      ],
      "metadata": {
        "colab": {
          "base_uri": "https://localhost:8080/"
        },
        "outputId": "b1115f71-acdf-45bf-a10d-8a873f4bdf54",
        "id": "rjYy6KQyp8jS"
      },
      "execution_count": null,
      "outputs": [
        {
          "output_type": "stream",
          "name": "stdout",
          "text": [
            "Requirement already satisfied: assemblyai in /usr/local/lib/python3.10/dist-packages (0.28.1)\n",
            "Requirement already satisfied: httpx>=0.19.0 in /usr/local/lib/python3.10/dist-packages (from assemblyai) (0.27.0)\n",
            "Requirement already satisfied: pydantic!=1.10.7,>=1.7.0 in /usr/local/lib/python3.10/dist-packages (from assemblyai) (2.7.4)\n",
            "Requirement already satisfied: typing-extensions>=3.7 in /usr/local/lib/python3.10/dist-packages (from assemblyai) (4.12.2)\n",
            "Requirement already satisfied: websockets>=11.0 in /usr/local/lib/python3.10/dist-packages (from assemblyai) (12.0)\n",
            "Requirement already satisfied: anyio in /usr/local/lib/python3.10/dist-packages (from httpx>=0.19.0->assemblyai) (3.7.1)\n",
            "Requirement already satisfied: certifi in /usr/local/lib/python3.10/dist-packages (from httpx>=0.19.0->assemblyai) (2024.6.2)\n",
            "Requirement already satisfied: httpcore==1.* in /usr/local/lib/python3.10/dist-packages (from httpx>=0.19.0->assemblyai) (1.0.5)\n",
            "Requirement already satisfied: idna in /usr/local/lib/python3.10/dist-packages (from httpx>=0.19.0->assemblyai) (3.7)\n",
            "Requirement already satisfied: sniffio in /usr/local/lib/python3.10/dist-packages (from httpx>=0.19.0->assemblyai) (1.3.1)\n",
            "Requirement already satisfied: h11<0.15,>=0.13 in /usr/local/lib/python3.10/dist-packages (from httpcore==1.*->httpx>=0.19.0->assemblyai) (0.14.0)\n",
            "Requirement already satisfied: annotated-types>=0.4.0 in /usr/local/lib/python3.10/dist-packages (from pydantic!=1.10.7,>=1.7.0->assemblyai) (0.7.0)\n",
            "Requirement already satisfied: pydantic-core==2.18.4 in /usr/local/lib/python3.10/dist-packages (from pydantic!=1.10.7,>=1.7.0->assemblyai) (2.18.4)\n",
            "Requirement already satisfied: exceptiongroup in /usr/local/lib/python3.10/dist-packages (from anyio->httpx>=0.19.0->assemblyai) (1.2.1)\n"
          ]
        }
      ]
    },
    {
      "cell_type": "markdown",
      "source": [
        "# Import packages"
      ],
      "metadata": {
        "id": "5Z1L-gKQp8jS"
      }
    },
    {
      "cell_type": "code",
      "source": [
        "from google.colab import drive\n",
        "drive.mount('/content/drive')"
      ],
      "metadata": {
        "colab": {
          "base_uri": "https://localhost:8080/"
        },
        "outputId": "3af43c50-3caa-4ac2-f58d-1b2db3b2ab74",
        "id": "hqmAPHwAp8jS"
      },
      "execution_count": null,
      "outputs": [
        {
          "output_type": "stream",
          "name": "stdout",
          "text": [
            "Drive already mounted at /content/drive; to attempt to forcibly remount, call drive.mount(\"/content/drive\", force_remount=True).\n"
          ]
        }
      ]
    },
    {
      "cell_type": "code",
      "source": [
        "%cd /content/drive/MyDrive/your_folder_name/Functions\n",
        "import sys\n",
        "sys.path.append('/content/drive/MyDrive/your_folder_name/Functions')"
      ],
      "metadata": {
        "colab": {
          "base_uri": "https://localhost:8080/"
        },
        "outputId": "6ea6a16c-1e34-414b-9865-0872c5b95ad7",
        "id": "FRAMt5fjp8jS"
      },
      "execution_count": null,
      "outputs": [
        {
          "output_type": "stream",
          "name": "stdout",
          "text": [
            "/content/drive/MyDrive/Oxford_Summer_Internship_2024/Functions\n"
          ]
        }
      ]
    },
    {
      "cell_type": "code",
      "source": [
        "import os\n",
        "import pickle\n",
        "import FastTranscribe\n",
        "import TransCloze"
      ],
      "metadata": {
        "id": "hI07fUTlp8jT"
      },
      "execution_count": null,
      "outputs": []
    },
    {
      "cell_type": "markdown",
      "source": [
        "# Define paths"
      ],
      "metadata": {
        "id": "Cw2s6K6Mp8jT"
      }
    },
    {
      "cell_type": "code",
      "source": [
        "# your AssemblyAI API key\n",
        "api_key = 'your_api_key'\n",
        "\n",
        "# path to folder containing wav files\n",
        "wav_dir = '/content/drive/MyDrive/your_folder_name/wav'\n",
        "\n",
        "# get list of wav file names\n",
        "filenames = [w for w in os.listdir(wav_dir) if (\".wav\" in w)]\n",
        "\n",
        "# path to output folder with transcription dictionary\n",
        "output_dictionary_dir = '/content/drive/MyDrive/your_folder_name/transc_output'\n",
        "\n",
        "# path to output folder with textgrids\n",
        "output_tg = '/content/drive/MyDrive/your_folder_name/tg_raw'"
      ],
      "metadata": {
        "colab": {
          "base_uri": "https://localhost:8080/"
        },
        "outputId": "c87b9293-d7b6-4d4c-f5bb-eb7ad56f9777",
        "id": "7_L_BNMwp8jT"
      },
      "execution_count": null,
      "outputs": [
        {
          "output_type": "stream",
          "name": "stdout",
          "text": [
            "{'exp_60f_xpos.wav': 'Identified.', 'exp_60f_xhll.wav': 'Had spotted.', 'exp_60f_ydav.wav': 'Arrested.', 'exp_60f_xdml.wav': 'Body.', 'exp_60f_ztcw.wav': 'Arrested.'}\n"
          ]
        }
      ]
    },
    {
      "cell_type": "markdown",
      "source": [
        "# Get transcriptions"
      ],
      "metadata": {
        "id": "bNcrmB80p8jT"
      }
    },
    {
      "cell_type": "code",
      "source": [
        "FastTranscribe.transcribe(api_key, filenames, wav_dir, output_dictionary_dir)"
      ],
      "metadata": {
        "id": "x8QYOa1Yp8jT"
      },
      "execution_count": null,
      "outputs": []
    },
    {
      "cell_type": "code",
      "source": [
        "# load the dictionary\n",
        "transc = pickle.load( open(f\"{output_dictionary_dir}/transcribed.p\", \"rb\" ) )\n",
        "new_transc = {key:\"not_recognized\" for key,val in transc.items() if val == ''}\n",
        "new_dict = {**transc, **new_transc}\n",
        "final_transc = {key.split('.')[0]:val for key,val in new_dict.items()}\n",
        "# generate textgrid files\n",
        "TransCloze.generate_textgrid(final_transc, output_tg, wav_dir, inconsistent = True)"
      ],
      "metadata": {
        "id": "TVIvdzZOp8jT"
      },
      "execution_count": null,
      "outputs": []
    }
  ]
}